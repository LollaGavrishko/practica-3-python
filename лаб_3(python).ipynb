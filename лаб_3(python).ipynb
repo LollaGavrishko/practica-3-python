{
  "nbformat": 4,
  "nbformat_minor": 0,
  "metadata": {
    "colab": {
      "name": "лаб.3(python).ipynb",
      "provenance": [],
      "collapsed_sections": []
    },
    "kernelspec": {
      "name": "python3",
      "display_name": "Python 3"
    }
  },
  "cells": [
    {
      "cell_type": "code",
      "metadata": {
        "colab": {
          "base_uri": "https://localhost:8080/"
        },
        "id": "oUL_4Me8GrWS",
        "outputId": "cb722638-6e28-432d-8031-a44a300ba18a"
      },
      "source": [
        "#ПРЕДВАРИТЕЛЬНАЯ ОБРАБОТКА ДАННЫХ\r\n",
        "import imp\r\n",
        "import numpy as np\r\n",
        "from sklearn import preprocessing\r\n",
        "Input_data = np.array([[2.1, -1.9, 5.5],\r\n",
        "                      [-1.5, 2.4, 3.5],\r\n",
        "                      [0.5, -7.9, 5.6],\r\n",
        "                      [5.9, 2.3, -5.8]])\r\n",
        "                     \r\n",
        "data_binarized = preprocessing.Binarizer(threshold = 0.5).transform(Input_data)\r\n",
        "print(\"\\nBinarized data:\\n\", data_binarized)\r\n",
        "\r\n"
      ],
      "execution_count": null,
      "outputs": [
        {
          "output_type": "stream",
          "text": [
            "\n",
            "Binarized data:\n",
            " [[1. 0. 1.]\n",
            " [0. 1. 1.]\n",
            " [0. 0. 1.]\n",
            " [1. 1. 0.]]\n"
          ],
          "name": "stdout"
        }
      ]
    },
    {
      "cell_type": "code",
      "metadata": {
        "colab": {
          "base_uri": "https://localhost:8080/",
          "height": 181
        },
        "id": "nHuov6HvMdkT",
        "outputId": "449a77c0-517a-428e-f2c4-7f6aaa957a13"
      },
      "source": [
        "print(\"Mean = \", Input_data.mean(axis = 0))\r\n",
        "print(\"Std deviation = \", Input_data.std(axis = 0))"
      ],
      "execution_count": 1,
      "outputs": [
        {
          "output_type": "error",
          "ename": "NameError",
          "evalue": "ignored",
          "traceback": [
            "\u001b[0;31m---------------------------------------------------------------------------\u001b[0m",
            "\u001b[0;31mNameError\u001b[0m                                 Traceback (most recent call last)",
            "\u001b[0;32m<ipython-input-1-f093c8d33465>\u001b[0m in \u001b[0;36m<module>\u001b[0;34m()\u001b[0m\n\u001b[0;32m----> 1\u001b[0;31m \u001b[0mprint\u001b[0m\u001b[0;34m(\u001b[0m\u001b[0;34m\"Mean = \"\u001b[0m\u001b[0;34m,\u001b[0m \u001b[0mInput_data\u001b[0m\u001b[0;34m.\u001b[0m\u001b[0mmean\u001b[0m\u001b[0;34m(\u001b[0m\u001b[0maxis\u001b[0m \u001b[0;34m=\u001b[0m \u001b[0;36m0\u001b[0m\u001b[0;34m)\u001b[0m\u001b[0;34m)\u001b[0m\u001b[0;34m\u001b[0m\u001b[0;34m\u001b[0m\u001b[0m\n\u001b[0m\u001b[1;32m      2\u001b[0m \u001b[0mprint\u001b[0m\u001b[0;34m(\u001b[0m\u001b[0;34m\"Std deviation = \"\u001b[0m\u001b[0;34m,\u001b[0m \u001b[0mInput_data\u001b[0m\u001b[0;34m.\u001b[0m\u001b[0mstd\u001b[0m\u001b[0;34m(\u001b[0m\u001b[0maxis\u001b[0m \u001b[0;34m=\u001b[0m \u001b[0;36m0\u001b[0m\u001b[0;34m)\u001b[0m\u001b[0;34m)\u001b[0m\u001b[0;34m\u001b[0m\u001b[0;34m\u001b[0m\u001b[0m\n",
            "\u001b[0;31mNameError\u001b[0m: name 'Input_data' is not defined"
          ]
        }
      ]
    },
    {
      "cell_type": "code",
      "metadata": {
        "colab": {
          "base_uri": "https://localhost:8080/"
        },
        "id": "Hp4mMGeKPhAj",
        "outputId": "443bfecb-517d-4240-d3d5-63c168d5a9f9"
      },
      "source": [
        "data_scaled = preprocessing.scale(Input_data)\r\n",
        "print(\"Mean =\", data_scaled.mean(axis=0))\r\n",
        "print(\"Std deviation =\", data_scaled.std(axis = 0))"
      ],
      "execution_count": null,
      "outputs": [
        {
          "output_type": "stream",
          "text": [
            "Mean = [1.11022302e-16 0.00000000e+00 0.00000000e+00]\n",
            "Std deviation = [1. 1. 1.]\n"
          ],
          "name": "stdout"
        }
      ]
    },
    {
      "cell_type": "code",
      "metadata": {
        "colab": {
          "base_uri": "https://localhost:8080/"
        },
        "id": "1n_-JIihPyAa",
        "outputId": "11743b02-a7ac-4f64-8917-6b8dc5e56acb"
      },
      "source": [
        "data_scaler_minmax = preprocessing.MinMaxScaler(feature_range=(0,1))\r\n",
        "data_scaled_minmax = data_scaler_minmax.fit_transform(Input_data)\r\n",
        "print (\"\\nMin max scaled data:\\n\", data_scaled_minmax)\r\n"
      ],
      "execution_count": null,
      "outputs": [
        {
          "output_type": "stream",
          "text": [
            "\n",
            "Min max scaled data:\n",
            " [[0.48648649 0.58252427 0.99122807]\n",
            " [0.         1.         0.81578947]\n",
            " [0.27027027 0.         1.        ]\n",
            " [1.         0.99029126 0.        ]]\n"
          ],
          "name": "stdout"
        }
      ]
    },
    {
      "cell_type": "code",
      "metadata": {
        "colab": {
          "base_uri": "https://localhost:8080/"
        },
        "id": "PAW8MLexP4-6",
        "outputId": "10209633-978c-4c0b-d146-aea54a815f6c"
      },
      "source": [
        "data_normalized_l1= preprocessing.normalize(Input_data, norm='l1')\r\n",
        "print(\"nL1 normalized data:\\n\", data_normalized_l1)\r\n"
      ],
      "execution_count": null,
      "outputs": [
        {
          "output_type": "stream",
          "text": [
            "nL1 normalized data:\n",
            " [[ 0.22105263 -0.2         0.57894737]\n",
            " [-0.2027027   0.32432432  0.47297297]\n",
            " [ 0.03571429 -0.56428571  0.4       ]\n",
            " [ 0.42142857  0.16428571 -0.41428571]]\n"
          ],
          "name": "stdout"
        }
      ]
    },
    {
      "cell_type": "code",
      "metadata": {
        "colab": {
          "base_uri": "https://localhost:8080/"
        },
        "id": "OE5_k8DKQrER",
        "outputId": "42832344-c975-4285-f45e-b1eca0b99569"
      },
      "source": [
        "data_normalized_l2= preprocessing.normalize(Input_data, norm='l2') \r\n",
        "print(\"nL2 normalized data:\\n\", data_normalized_l2)\r\n"
      ],
      "execution_count": null,
      "outputs": [
        {
          "output_type": "stream",
          "text": [
            "nL2 normalized data:\n",
            " [[ 0.33946114 -0.30713151  0.88906489]\n",
            " [-0.33325106  0.53320169  0.7775858 ]\n",
            " [ 0.05156558 -0.81473612  0.57753446]\n",
            " [ 0.68706914  0.26784051 -0.6754239 ]]\n"
          ],
          "name": "stdout"
        }
      ]
    },
    {
      "cell_type": "code",
      "metadata": {
        "id": "bXRxk0a1Sd8a"
      },
      "source": [
        "#ОПРЕДЕЛЕНИЕ ОБРАЗЦОВ МЕТОК\r\n",
        "import numpy as np\r\n",
        "from sklearn import preprocessing\r\n",
        "input_labels=['red','black','red','green','black','yellow','white']"
      ],
      "execution_count": 2,
      "outputs": []
    },
    {
      "cell_type": "code",
      "metadata": {
        "colab": {
          "base_uri": "https://localhost:8080/"
        },
        "id": "HKXO89FdUg3p",
        "outputId": "36e47607-d92a-45ba-b7cd-f30d671fa7ba"
      },
      "source": [
        "encoder= preprocessing.LabelEncoder()\r\n",
        "encoder.fit(input_labels)"
      ],
      "execution_count": null,
      "outputs": [
        {
          "output_type": "execute_result",
          "data": {
            "text/plain": [
              "LabelEncoder()"
            ]
          },
          "metadata": {
            "tags": []
          },
          "execution_count": 65
        }
      ]
    },
    {
      "cell_type": "code",
      "metadata": {
        "colab": {
          "base_uri": "https://localhost:8080/"
        },
        "id": "WvyPQqiOaj9f",
        "outputId": "161507c2-62ea-47c4-d19a-4ac2166f4366"
      },
      "source": [
        "test_labels=['green','red','black']\r\n",
        "encoded_values= encoder.transform(test_labels)\r\n",
        "print(\"\\nLabels=\", test_labels)"
      ],
      "execution_count": null,
      "outputs": [
        {
          "output_type": "stream",
          "text": [
            "\n",
            "Labels= ['green', 'red', 'black']\n"
          ],
          "name": "stdout"
        }
      ]
    },
    {
      "cell_type": "code",
      "metadata": {
        "colab": {
          "base_uri": "https://localhost:8080/"
        },
        "id": "rZ84-7KAbiBP",
        "outputId": "2691c0de-8629-4db0-d967-8efa4298a1dd"
      },
      "source": [
        "print(\"Encoded values=\", list(encoded_values))\r\n"
      ],
      "execution_count": null,
      "outputs": [
        {
          "output_type": "stream",
          "text": [
            "Encoded values= [1, 2, 0]\n"
          ],
          "name": "stdout"
        }
      ]
    },
    {
      "cell_type": "code",
      "metadata": {
        "colab": {
          "base_uri": "https://localhost:8080/"
        },
        "id": "DyN4egjkb5WP",
        "outputId": "02790894-6adb-4e1d-a16d-628ea83962e8"
      },
      "source": [
        "encoded_values=[3,0,4,1]\r\n",
        "decoded_list=encoder.inverse_transform(encoded_values)\r\n",
        "print(\"\\nDecoded labels =\", list(decoded_list))             "
      ],
      "execution_count": null,
      "outputs": [
        {
          "output_type": "stream",
          "text": [
            "\n",
            "Decoded labels = ['white', 'black', 'yellow', 'green']\n"
          ],
          "name": "stdout"
        }
      ]
    },
    {
      "cell_type": "code",
      "metadata": {
        "id": "7xHFbUzJcVD-"
      },
      "source": [
        "#ЛИНЕЙНЫЙ РЕГРЕССОР\r\n",
        "import numpy as np\r\n",
        "from sklearn import linear_model\r\n",
        "import sklearn.metrics as sm\r\n",
        "import matplotlib.pyplot as plt\r\n"
      ],
      "execution_count": null,
      "outputs": []
    },
    {
      "cell_type": "code",
      "metadata": {
        "id": "tCvatqwrf6N-"
      },
      "source": [
        "input = 'D:/ProgramData/linear.txt' #Теперь нам нужно предоставить входные данные, и мы сохранили наши данные в файле с\r\n",
        "#именем linear.txt.\r\n",
        "input_data = np.loadtxt(input, delimiter=',')#Нам нужно загрузить эти данные с помощью функции np.loadtxt .\r\n",
        "X, y = input_data[:, :-1], input_data[:, -1]\r\n",
        "training_samples = int(0.6 * len(X))\r\n",
        "testing_samples = len(X) - num_training\r\n",
        "X_train, y_train = X[:training_samples], y[:training_samples]\r\n",
        "X_test, y_test = X[training_samples:], y[training_samples:]\r\n"
      ],
      "execution_count": null,
      "outputs": []
    },
    {
      "cell_type": "code",
      "metadata": {
        "id": "CKFJ4SwKgSLF"
      },
      "source": [
        "reg_linear = linear_model.LinearRegression()\r\n",
        "reg_linear.fit(X_train, y_train)"
      ],
      "execution_count": null,
      "outputs": []
    },
    {
      "cell_type": "code",
      "metadata": {
        "id": "EIIO0n-UgZG9"
      },
      "source": [
        "y_test_pred = reg_linear.predict(X_test)"
      ],
      "execution_count": null,
      "outputs": []
    },
    {
      "cell_type": "code",
      "metadata": {
        "id": "KuHevsRMgbe2"
      },
      "source": [
        "plt.scatter(X_test, y_test, color = 'indigo')\r\n",
        "plt.plot(X_test, y_test_pred, color = 'yellowgreen', linewidth = 2)\r\n",
        "plt.xticks(())\r\n",
        "plt.yticks(())\r\n",
        "plt.show()"
      ],
      "execution_count": null,
      "outputs": []
    },
    {
      "cell_type": "code",
      "metadata": {
        "id": "pEupz1ngglSt"
      },
      "source": [
        "print(\"Performance of Linear regressor:\")\r\n",
        "print(\"Mean absolute error =\", round(sm.mean_absolute_error(y_test, y_test_pred), 2))\r\n",
        "print(\"Mean squared error =\", round(sm.mean_squared_error(y_test, y_test_pred), 2))\r\n",
        "print(\"Median abs error =\", round(sm.median_absolute_error(y_test, y_test_pred), 2))\r\n",
        "print(\"Explain var scr =\", round(sm.explained_variance_score(y_test, y_test_pred),2))\r\n",
        "print(\"R2 score =\", round(sm.r2_score(y_test, y_test_pred), 2))"
      ],
      "execution_count": null,
      "outputs": []
    },
    {
      "cell_type": "code",
      "metadata": {
        "id": "VP8qgWz7go9l"
      },
      "source": [
        "input = 'D:/ProgramData/Mul_linear.txt'# нужно предоставить входные данные, и мы сохранили наши данные в файле с\r\n",
        "#именем linear.txt.\r\n",
        "input_data = np.loadtxt(input, delimiter=',')\r\n",
        "X, y = input_data[:, :-1], input_data[:, -1]\r\n",
        "training_samples = int(0.6 * len(X))\r\n",
        "testing_samples = len(X) - num_training\r\n",
        "X_train, y_train = X[:training_samples], y[:training_samples]\r\n",
        "X_test, y_test = X[training_samples:], y[training_samples:]\r\n"
      ],
      "execution_count": null,
      "outputs": []
    },
    {
      "cell_type": "code",
      "metadata": {
        "id": "ztc6AQScg74N"
      },
      "source": [
        "reg_linear_mul = linear_model.LinearRegression()\r\n",
        "reg_linear_mul.fit(X_train, y_train)\r\n"
      ],
      "execution_count": null,
      "outputs": []
    },
    {
      "cell_type": "code",
      "metadata": {
        "id": "OGXL8F3vhBXn"
      },
      "source": [
        "y_test_pred = reg_linear_mul.predict(X_test)\r\n",
        "print(\"Performance of Linear regressor:\")\r\n",
        "print(\"Mean absolute error =\", round(sm.mean_absolute_error(y_test, y_test_pred), 2))\r\n",
        "print(\"Mean squared error =\", round(sm.mean_squared_error(y_test, y_test_pred), 2))\r\n",
        "print(\"Median abs error =\", round(sm.median_absolute_error(y_test, y_test_pred), 2))\r\n",
        "print(\"Explain var scr=\", round(sm.explained_variance_score(y_test, y_test_pred), 2))\r\n",
        "print(\"R2 score =\", round(sm.r2_score(y_test, y_test_pred), 2))\r\n"
      ],
      "execution_count": null,
      "outputs": []
    },
    {
      "cell_type": "code",
      "metadata": {
        "id": "t9avmaRRhBWl"
      },
      "source": [
        "polynomial = PolynomialFeatures(degree = 10)\r\n",
        "X_train_transformed = polynomial.fit_transform(X_train)\r\n",
        "datapoint = [[2.23, 1.35, 1.12]]\r\n",
        "poly_datapoint = polynomial.fit_transform(datapoint)\r\n",
        "poly_linear_model = linear_model.LinearRegression()\r\n",
        "poly_linear_model.fit(X_train_transformed, y_train)\r\n",
        "print(\"\\nLinear regression:\\n\", reg_linear_mul.predict(datapoint))\r\n",
        "print(\"\\nPolynomial regression:\\n\", poly_linear_model.predict(poly_datapoint))"
      ],
      "execution_count": null,
      "outputs": []
    }
  ]
}